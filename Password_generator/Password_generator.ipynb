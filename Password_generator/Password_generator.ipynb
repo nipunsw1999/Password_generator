{
 "cells": [
  {
   "cell_type": "code",
   "execution_count": 1,
   "id": "e82f4875-3c34-47f3-b0a2-01fb48bca4ff",
   "metadata": {},
   "outputs": [],
   "source": [
    "import random\n",
    "import string"
   ]
  },
  {
   "cell_type": "code",
   "execution_count": 12,
   "id": "c83e3609-f80d-4e76-a5f1-3a758e4804a0",
   "metadata": {},
   "outputs": [],
   "source": [
    "def generate_password(min_length,numbers=True,special_characters=True):\n",
    "    letters = string.ascii_letters\n",
    "    digits = string.digits\n",
    "    special = string.punctuation\n",
    "\n",
    "    characters = letters\n",
    "    \n",
    "    if numbers:\n",
    "        characters += digits\n",
    "    if special_characters:\n",
    "        characters += special\n",
    "\n",
    "    pwd = \"\"\n",
    "    meet_criteria = False\n",
    "    has_number = False\n",
    "    has_special = False\n",
    "\n",
    "    while not meet_criteria or len(pwd)<min_length:\n",
    "        new_char = random.choice(characters)\n",
    "        pwd += new_char\n",
    "\n",
    "        if new_char in digits:\n",
    "            has_number = True\n",
    "        elif new_char in special:\n",
    "            has_special = True\n",
    "\n",
    "        meet_criteria = True\n",
    "        if numbers:\n",
    "            meet_criteria = has_number\n",
    "        if special_characters:\n",
    "            meet_criteria = meet_criteria and has_special\n",
    "\n",
    "    return pwd"
   ]
  },
  {
   "cell_type": "code",
   "execution_count": 14,
   "id": "add05b11-98a7-4245-867a-d7f86650b60b",
   "metadata": {},
   "outputs": [
    {
     "name": "stdin",
     "output_type": "stream",
     "text": [
      "Enter the minimum length: 10\n",
      "Do you want numbers (y/n)? y\n",
      "Do you want special characters (y/n)?  y\n"
     ]
    },
    {
     "name": "stdout",
     "output_type": "stream",
     "text": [
      "Generated password:  E2H\\i{Pnfg\n"
     ]
    }
   ],
   "source": [
    "min_length = int(input(\"Enter the minimum length:\"))\n",
    "has_number = input(\"Do you want numbers (y/n)?\").lower() == \"y\"\n",
    "has_special = input(\"Do you want special characters (y/n)? \").lower() == \"y\"\n",
    "\n",
    "pwd = generate_password(min_length,has_number,has_special)\n",
    "print(\"Generated password: \",pwd)"
   ]
  }
 ],
 "metadata": {
  "kernelspec": {
   "display_name": "Python 3 (ipykernel)",
   "language": "python",
   "name": "python3"
  },
  "language_info": {
   "codemirror_mode": {
    "name": "ipython",
    "version": 3
   },
   "file_extension": ".py",
   "mimetype": "text/x-python",
   "name": "python",
   "nbconvert_exporter": "python",
   "pygments_lexer": "ipython3",
   "version": "3.11.3"
  }
 },
 "nbformat": 4,
 "nbformat_minor": 5
}
